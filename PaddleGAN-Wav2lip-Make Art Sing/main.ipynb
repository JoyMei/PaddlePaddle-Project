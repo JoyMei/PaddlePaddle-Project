{
 "cells": [
  {
   "cell_type": "markdown",
   "metadata": {},
   "source": []
  },
  {
   "cell_type": "markdown",
   "metadata": {},
   "source": [
    "##<font color=#87b66a>PaddleGAN Wav2lip Make Art Sing ——</font>\n",
    "####<font color=#905e44>Oil Painting sing La La Land 🌱 </font><font color=#4faae8>\"City of <font color=#efb303>Stars</font>✨\"</font>\n",
    "\n",
    "## 1. 项目概述\n",
    "本案例基于飞桨PaddleGAN实现唇形合成\n",
    "\n",
    "最终效果:\n",
    "<center>\n",
    "<img src=\"./sing.gif\" width=\"80%\"></center>\n",
    "</center>\n",
    "<br></br>\n"
   ]
  },
  {
   "cell_type": "markdown",
   "metadata": {
    "collapsed": false
   },
   "source": [
    "## 2. 解决方案"
   ]
  },
  {
   "cell_type": "code",
   "execution_count": null,
   "metadata": {
    "collapsed": false
   },
   "outputs": [],
   "source": [
    "# 如果需要进行持久化安装, 需要使用持久化路径, 如下方代码示例:\n",
    "# If a persistence installation is required, \n",
    "# you need to use the persistence path as the following: \n",
    "!mkdir /home/aistudio/external-libraries\n",
    "!pip install beautifulsoup4 -t /home/aistudio/external-libraries"
   ]
  },
  {
   "cell_type": "code",
   "execution_count": 5,
   "metadata": {
    "collapsed": false
   },
   "outputs": [],
   "source": [
    "# 同时添加如下代码, 这样每次环境(kernel)启动的时候只要运行下方代码即可: \n",
    "# Also add the following code, \n",
    "# so that every time the environment (kernel) starts, \n",
    "# just run the following code: \n",
    "import sys \n",
    "sys.path.append('/home/aistudio/external-libraries')"
   ]
  },
  {
   "cell_type": "markdown",
   "metadata": {
    "collapsed": false
   },
   "source": [
    "## 3. 数据和模型推理"
   ]
  },
  {
   "cell_type": "markdown",
   "metadata": {
    "collapsed": false
   },
   "source": [
    "### 下载PaddleGAN并安装相关包"
   ]
  },
  {
   "cell_type": "code",
   "execution_count": 6,
   "metadata": {
    "collapsed": false
   },
   "outputs": [
    {
     "name": "stdout",
     "output_type": "stream",
     "text": [
      "fatal: destination path 'PaddleGAN' already exists and is not an empty directory.\r\n"
     ]
    }
   ],
   "source": [
    "# 从github/gitee上下载PaddleGAN的代码，只需在第一次运行项目时下载即可\n",
    "# github下载可能速度较慢，推荐通过gitee下载\n",
    "#!git clone https://github.com/PaddlePaddle/PaddleGAN\n",
    "!git clone https://gitee.com/paddlepaddle/PaddleGAN.git"
   ]
  },
  {
   "cell_type": "code",
   "execution_count": null,
   "metadata": {
    "collapsed": false
   },
   "outputs": [],
   "source": [
    "# 这里使用PaddleeGAN develop版本\n",
    "# 如遇版本更新导致后续命令运行报错，可使用我们提供的PaddleaddleGAN-develop.zip文件，uncomment如下代码进行解压\n",
    "# !unzip -oq /home/aistudio/PaddleGAN.zip\n",
    "%cd PaddleGAN\n",
    "!git checkout develop"
   ]
  },
  {
   "cell_type": "code",
   "execution_count": null,
   "metadata": {
    "collapsed": false
   },
   "outputs": [],
   "source": [
    "# 安装所需安装包\n",
    "!pip install -r requirements.txt"
   ]
  },
  {
   "cell_type": "markdown",
   "metadata": {
    "collapsed": false
   },
   "source": [
    "## 4.唇形动作合成\n",
    "运行如下命令，实现唇形合成。其中，参数使用说明如下：\n",
    "\n",
    "- face: 图片/视频，其中的人物唇形将根据音频进行唇形合成。\n",
    "- audio: 驱动唇形合成的音频。\n",
    "- outfile: 指定生成的视频文件的保存路径及文件名"
   ]
  },
  {
   "cell_type": "code",
   "execution_count": null,
   "metadata": {
    "collapsed": false
   },
   "outputs": [],
   "source": [
    "# m1\n",
    "!export PYTHONPATH=$PYTHONPATH:/home/aistudio/PaddleGAN && python applications/tools/wav2lip.py --face /home/aistudio/role1.png --audio /home/aistudio/work/m1.mp3 --outfile /home/aistudio/video/m1.mp4\n",
    "# w1\n",
    "!export PYTHONPATH=$PYTHONPATH:/home/aistudio/PaddleGAN && python applications/tools/wav2lip.py --face /home/aistudio/role2.png --audio /home/aistudio/work/w1.mp3 --outfile /home/aistudio/video/w1.mp4"
   ]
  }
 ],
 "metadata": {
  "interpreter": {
   "hash": "3776cab7261ca2ee4573ed7c01e8b85dc4fa5f4e8dc506bb056b36346d01bca0"
  },
  "kernelspec": {
   "display_name": "Python 3",
   "language": "python",
   "name": "python3"
  },
  "language_info": {
   "codemirror_mode": {
    "name": "ipython",
    "version": 3
   },
   "file_extension": ".py",
   "mimetype": "text/x-python",
   "name": "python",
   "nbconvert_exporter": "python",
   "pygments_lexer": "ipython3",
   "version": "3.7.11"
  }
 },
 "nbformat": 4,
 "nbformat_minor": 1
}
